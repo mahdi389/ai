{
  "nbformat": 4,
  "nbformat_minor": 0,
  "metadata": {
    "colab": {
      "provenance": []
    },
    "kernelspec": {
      "name": "python3",
      "display_name": "Python 3"
    },
    "language_info": {
      "name": "python"
    }
  },
  "cells": [
    {
      "cell_type": "markdown",
      "source": [
        "# **import**"
      ],
      "metadata": {
        "id": "pIE9SMqeY0nh"
      }
    },
    {
      "cell_type": "code",
      "source": [
        "import numpy as np\n",
        "import tensorflow as tf\n",
        "import matplotlib.pyplot as plt\n",
        "from tensorflow.keras.models import Sequential\n",
        "from tensorflow.keras.utils import to_categorical\n",
        "from tensorflow.keras.preprocessing.text import Tokenizer\n",
        "from tensorflow.keras.preprocessing.sequence import pad_sequences\n",
        "from tensorflow.keras.layers import Embedding, LSTM, Dense, Bidirectional"
      ],
      "metadata": {
        "id": "ZtjgCX0vY2Ex"
      },
      "execution_count": 1,
      "outputs": []
    },
    {
      "cell_type": "markdown",
      "source": [
        "# **data**"
      ],
      "metadata": {
        "id": "8qa1HQPFZC1H"
      }
    },
    {
      "cell_type": "code",
      "source": [
        "!gdown --id 108jAePKK4R3BVYBbYJZ32JWUwxeMg20K"
      ],
      "metadata": {
        "colab": {
          "base_uri": "https://localhost:8080/"
        },
        "id": "N4WrdkdfZFXR",
        "outputId": "21aca8eb-74ac-4866-b31d-a607fab3f25f"
      },
      "execution_count": 2,
      "outputs": [
        {
          "output_type": "stream",
          "name": "stdout",
          "text": [
            "/usr/local/lib/python3.10/dist-packages/gdown/cli.py:121: FutureWarning: Option `--id` was deprecated in version 4.3.1 and will be removed in 5.0. You don't need to pass it anymore to use a file ID.\n",
            "  warnings.warn(\n",
            "Downloading...\n",
            "From: https://drive.google.com/uc?id=108jAePKK4R3BVYBbYJZ32JWUwxeMg20K\n",
            "To: /content/sonnets.txt\n",
            "100% 93.6k/93.6k [00:00<00:00, 108MB/s]\n"
          ]
        }
      ]
    },
    {
      "cell_type": "code",
      "source": [
        "SONNETS_FILE = './sonnets.txt'\n",
        "\n",
        "with open('./sonnets.txt') as f:\n",
        "    data = f.read()\n",
        "\n",
        "corpus = data.lower().split(\"\\n\")\n",
        "\n",
        "print(f\"There are {len(corpus)} lines of sonnets\\n\")\n",
        "print(f\"The first 5 lines look like this:\\n\")\n",
        "for i in range(5):\n",
        "  print(corpus[i])"
      ],
      "metadata": {
        "colab": {
          "base_uri": "https://localhost:8080/"
        },
        "id": "GQx2yjEcaTcS",
        "outputId": "7f3423a6-3c5f-496e-f553-b628f4069d07"
      },
      "execution_count": 3,
      "outputs": [
        {
          "output_type": "stream",
          "name": "stdout",
          "text": [
            "There are 2159 lines of sonnets\n",
            "\n",
            "The first 5 lines look like this:\n",
            "\n",
            "from fairest creatures we desire increase,\n",
            "that thereby beauty's rose might never die,\n",
            "but as the riper should by time decease,\n",
            "his tender heir might bear his memory:\n",
            "but thou, contracted to thine own bright eyes,\n"
          ]
        }
      ]
    },
    {
      "cell_type": "markdown",
      "source": [
        "# **tokenize**\n",
        "\n",
        "giving a number to a word"
      ],
      "metadata": {
        "id": "NNY3ty0aahgf"
      }
    },
    {
      "cell_type": "code",
      "source": [
        "tokenizer = Tokenizer()\n",
        "tokenizer.fit_on_texts(corpus)\n",
        "total_words = len(tokenizer.word_index) + 1\n",
        "print(tokenizer.word_index)"
      ],
      "metadata": {
        "colab": {
          "base_uri": "https://localhost:8080/"
        },
        "id": "uxCWDcasanhg",
        "outputId": "ddbe3c7b-7c5f-4259-a4d1-c08bb6d076e5"
      },
      "execution_count": 8,
      "outputs": [
        {
          "output_type": "stream",
          "name": "stdout",
          "text": [
            "{'and': 1, 'the': 2, 'to': 3, 'of': 4, 'my': 5, 'i': 6, 'in': 7, 'that': 8, 'thy': 9, 'thou': 10, 'with': 11, 'for': 12, 'is': 13, 'love': 14, 'not': 15, 'but': 16, 'a': 17, 'me': 18, 'thee': 19, 'so': 20, 'be': 21, 'as': 22, 'all': 23, 'you': 24, 'his': 25, 'which': 26, 'when': 27, 'it': 28, 'this': 29, 'by': 30, 'your': 31, 'doth': 32, 'do': 33, 'from': 34, 'on': 35, 'or': 36, 'no': 37, 'then': 38, 'have': 39, 'what': 40, 'are': 41, 'if': 42, 'more': 43, 'mine': 44, 'their': 45, 'shall': 46, 'sweet': 47, 'time': 48, 'will': 49, 'they': 50, 'beauty': 51, 'nor': 52, 'eyes': 53, 'art': 54, 'her': 55, 'heart': 56, 'yet': 57, 'o': 58, 'than': 59, 'can': 60, 'should': 61, 'thine': 62, 'now': 63, 'where': 64, 'make': 65, 'one': 66, 'hath': 67, 'he': 68, 'fair': 69, 'still': 70, 'how': 71, 'eye': 72, 'him': 73, 'like': 74, 'true': 75, 'see': 76, 'am': 77, 'she': 78, 'those': 79, 'though': 80, 'being': 81, 'some': 82, 'every': 83, 'such': 84, 'own': 85, 'were': 86, 'dost': 87, 'who': 88, 'live': 89, 'upon': 90, 'was': 91, 'may': 92, 'myself': 93, 'world': 94, 'say': 95, 'praise': 96, 'day': 97, 'new': 98, 'give': 99, 'most': 100, \"love's\": 101, 'might': 102, 'did': 103, 'let': 104, 'well': 105, 'at': 106, 'why': 107, 'since': 108, 'even': 109, 'show': 110, 'life': 111, 'old': 112, 'look': 113, 'best': 114, 'night': 115, 'dear': 116, 'truth': 117, 'thyself': 118, 'must': 119, 'would': 120, 'thus': 121, 'self': 122, 'ill': 123, 'part': 124, 'these': 125, 'worth': 126, 'made': 127, 'face': 128, 'whose': 129, 'nothing': 130, 'alone': 131, 'false': 132, 'better': 133, \"beauty's\": 134, 'too': 135, 'much': 136, 'there': 137, 'hand': 138, 'thought': 139, 'away': 140, 'against': 141, 'them': 142, 'thoughts': 143, 'our': 144, 'days': 145, 'an': 146, \"'\": 147, 'up': 148, 'sight': 149, 'out': 150, 'hast': 151, 'know': 152, 'therefore': 153, 'both': 154, 'name': 155, 'never': 156, 'death': 157, 'mind': 158, \"time's\": 159, 'other': 160, 'find': 161, 'had': 162, 'muse': 163, 'far': 164, 'dead': 165, 'we': 166, 'tell': 167, 'age': 168, 'each': 169, 'youth': 170, 'good': 171, 'men': 172, 'before': 173, 'verse': 174, 'come': 175, 'tongue': 176, 'poor': 177, 'think': 178, 'proud': 179, 'gentle': 180, 'wilt': 181, 'state': 182, 'till': 183, 'things': 184, 'friend': 185, 'use': 186, 'many': 187, 'prove': 188, 'none': 189, 'hate': 190, 'hold': 191, 'heaven': 192, 'first': 193, 'whilst': 194, 'black': 195, 'lie': 196, 'full': 197, 'take': 198, 'die': 199, 'bear': 200, 'making': 201, 'lies': 202, 'hours': 203, 'looks': 204, 'change': 205, 'kind': 206, 'mayst': 207, 'whom': 208, 'thing': 209, 'long': 210, 'ever': 211, 'woe': 212, 'desire': 213, 'bright': 214, 'within': 215, 'form': 216, \"summer's\": 217, 'pleasure': 218, 'happy': 219, 'shalt': 220, 'end': 221, 'others': 222, 'any': 223, \"o'er\": 224, 'yourself': 225, 'after': 226, 'rich': 227, 'knows': 228, 'earth': 229, 'sun': 230, 'seem': 231, \"'tis\": 232, 'grace': 233, 'pride': 234, 'seen': 235, 'shame': 236, 'glass': 237, 'another': 238, 'great': 239, 'nature': 240, 'leave': 241, 'place': 242, 'could': 243, 'call': 244, 'again': 245, 'pen': 246, 'write': 247, 'once': 248, 'words': 249, 'loving': 250, 'deeds': 251, 'found': 252, 'fire': 253, 'right': 254, 'spirit': 255, 'soul': 256, 'pity': 257, 'treasure': 258, 'back': 259, 'beauteous': 260, 'gone': 261, 'lives': 262, 'times': 263, 'strong': 264, 'keep': 265, 'without': 266, 'decay': 267, 'store': 268, 'past': 269, 'stay': 270, 'lose': 271, 'makes': 272, 'loss': 273, 'two': 274, 'although': 275, 'cannot': 276, 'power': 277, 'memory': 278, 'cruel': 279, 'brow': 280, 'deep': 281, 'child': 282, 'blood': 283, 'lovely': 284, 'gives': 285, 'summer': 286, 'leaves': 287, 'flowers': 288, 'joy': 289, 'fear': 290, 'grow': 291, 'save': 292, 'blessed': 293, 'stand': 294, 'lines': 295, 'skill': 296, 'born': 297, 'glory': 298, 'view': 299, 'disgrace': 300, 'speak': 301, 'faults': 302, 'bring': 303, 'loves': 304, 'delight': 305, 'lest': 306, 'sake': 307, 'thence': 308, 'hell': 309, 'sin': 310, 'tender': 311, 'fresh': 312, 'waste': 313, 'excuse': 314, 'cold': 315, 'through': 316, 'canst': 317, 'very': 318, 'same': 319, 'ten': 320, 'living': 321, 'parts': 322, 'sing': 323, 'ah': 324, 'behold': 325, 'white': 326, 'honour': 327, 'outward': 328, 'less': 329, 'wide': 330, 'worst': 331, 'itself': 332, 'breast': 333, 'put': 334, 'shadow': 335, 'sad': 336, \"i'll\": 337, 'forth': 338, 'roses': 339, 'steal': 340, 'whether': 341, 'straight': 342, 'set': 343, 'breath': 344, 'virtue': 345, 'seeing': 346, 'bad': 347, 'three': 348, 'foul': 349, 'swear': 350, 'rose': 351, 'only': 352, 'else': 353, 'due': 354, 'despite': 355, \"nature's\": 356, 'having': 357, 'dwell': 358, 'ere': 359, 'shouldst': 360, 'light': 361, 'head': 362, 'under': 363, 'way': 364, 'unless': 365, 'music': 366, 'hear': 367, 'sweets': 368, 'war': 369, 'lovest': 370, \"'gainst\": 371, 'green': 372, 'go': 373, 'themselves': 374, 'hence': 375, 'longer': 376, 'eternal': 377, 'judgment': 378, 'fortune': 379, 'read': 380, 'shows': 381, 'rhyme': 382, 'compare': 383, 'sometime': 384, 'swift': 385, 'wrong': 386, \"heaven's\": 387, 'dumb': 388, 'writ': 389, 'wit': 390, 'book': 391, 'rest': 392, 'hope': 393, 'blind': 394, 'return': 395, 'wealth': 396, 'precious': 397, 'while': 398, 'enough': 399, 'argument': 400, 'heavy': 401, 'dull': 402, \"heart's\": 403, 'care': 404, 'strange': 405, 'slave': 406, 'been': 407, 'painting': 408, 'taught': 409, 'fears': 410, 'spent': 411, 'sick': 412, 'reason': 413, 'lips': 414, 'mad': 415, \"'will\": 416, 'fairest': 417, \"world's\": 418, 'ornament': 419, 'spring': 420, 'tomb': 421, 'calls': 422, 'wrinkles': 423, 'golden': 424, 'spend': 425, 'lend': 426, 'play': 427, 'winter': 428, 'quite': 429, 'left': 430, 'gracious': 431, 'mortal': 432, 'chide': 433, 'shape': 434, 'beloved': 435, 'least': 436, 'fast': 437, 'year': 438, 'gave': 439, 'gift': 440, 'barren': 441, 'yours': 442, 'rage': 443, 'stars': 444, 'oft': 445, 'doom': 446, 'date': 447, 'holds': 448, 'wish': 449, 'painted': 450, 'keeps': 451, 'graces': 452, 'antique': 453, 'short': 454, 'lived': 455, 'man': 456, 'hue': 457, \"men's\": 458, 'fell': 459, 'purpose': 460, 'truly': 461, 'trust': 462, 'strength': 463, 'speaking': 464, 'wherein': 465, 'done': 466, 'boast': 467, 'buried': 468, 'merit': 469, 'worthy': 470, 'scope': 471, 'moan': 472, 'hearts': 473, \"stol'n\": 474, 'loved': 475, 'birth': 476, 'hide': 477, 'base': 478, 'grief': 479, 'sorrow': 480, 'tears': 481, 'canker': 482, 'sweetest': 483, 'needs': 484, 'spite': 485, 'subject': 486, 'into': 487, 'invention': 488, 'pain': 489, 'absence': 490, 'kill': 491, 'large': 492, 'water': 493, 'slow': 494, 'present': 495, 'motion': 496, 'down': 497, 'says': 498, 'took': 499, 'side': 500, 'need': 501, 'cheek': 502, 'worse': 503, 'near': 504, 'flower': 505, 'faith': 506, 'tied': 507, 'rank': 508, 'brain': 509, 'saw': 510, 'grew': 511, 'brand': 512, 'cure': 513, \"mistress'\": 514, \"'will'\": 515, 'angel': 516, 'increase': 517, 'abundance': 518, 'sum': 519, 'count': 520, 'prime': 521, 'single': 522, 'image': 523, 'lends': 524, 'free': 525, 'given': 526, 'unused': 527, 'used': 528, 'frame': 529, 'substance': 530, \"death's\": 531, 'worms': 532, 'weary': 533, 'mark': 534, 'song': 535, 'behind': 536, 'grant': 537, 'rude': 538, 'heat': 539, 'beauties': 540, 'scythe': 541, 'here': 542, 'lease': 543, 'pluck': 544, 'methinks': 545, 'evil': 546, 'minutes': 547, 'grows': 548, 'wherefore': 549, 'inward': 550, 'believe': 551, 'high': 552, 'numbers': 553, 'touches': 554, \"ne'er\": 555, 'buds': 556, 'shade': 557, 'crime': 558, 'young': 559, 'mistress': 560, 'rehearse': 561, 'rare': 562, 'air': 563, 'babe': 564, 'body': 565, 'want': 566, 'public': 567, 'forgot': 568, 'removed': 569, 'bare': 570, 'respect': 571, 'dare': 572, 'toil': 573, 'tired': 574, 'jewel': 575, 'please': 576, 'clouds': 577, 'contented': 578, 'break': 579, 'lack': 580, 'account': 581, 'holy': 582, 'appear': 583, 'grown': 584, 'sovereign': 585, 'shine': 586, 'hour': 587, 'wound': 588, 'sense': 589, 'thief': 590, 'help': 591, 'report': 592, 'comfort': 593, 'leisure': 594, 'blame': 595, 'taste': 596, 'absent': 597, 'said': 598, 'gain': 599, 'sleep': 600, 'sea': 601, 'assured': 602, 'told': 603, 'seek': 604, 'groan': 605, 'morrow': 606, 'former': 607, 'second': 608, 'knife': 609, 'brass': 610, 'win': 611, 'forsworn': 612, 'tongues': 613, 'add': 614, 'smell': 615, 'weeds': 616, 'common': 617, 'lost': 618, \"others'\": 619, 'knowing': 620, 'cheeks': 621, 'story': 622, 'praises': 623, 'above': 624, 'wretched': 625, 'turn': 626, 'errors': 627, 'lays': 628, 'red': 629, 'just': 630, 'catch': 631, 'laid': 632, 'bath': 633, 'decease': 634, 'heir': 635, 'flame': 636, 'eat': 637, 'grave': 638, 'weed': 639, 'answer': 640, 'repair': 641, 'posterity': 642, \"mother's\": 643, 'april': 644, 'windows': 645, \"remember'd\": 646, 'abuse': 647, 'audit': 648, 'work': 649, 'confounds': 650, 'effect': 651, \"distill'd\": 652, \"winter's\": 653, 'pay': 654, 'happier': 655, 'conquest': 656, 'lo': 657, 'heavenly': 658, 'son': 659, 'receivest': 660, 'ear': 661, 'husband': 662, 'seeming': 663, 'weep': 664, 'kept': 665, 'murderous': 666, 'fairer': 667, 'brave': 668, 'among': 669, 'takes': 670, 'fall': 671, 'father': 672, 'brief': 673, 'rain': 674, 'knowledge': 675, 'constant': 676, 'wouldst': 677, 'nought': 678, 'whereon': 679, 'height': 680, 'wear': 681, 'conceit': 682, 'bloody': 683, 'tyrant': 684, 'means': 685, 'maiden': 686, 'virtuous': 687, 'drawn': 688, \"fill'd\": 689, 'half': 690, 'number': 691, 'shake': 692, 'hot': 693, 'complexion': 694, 'course': 695, 'fade': 696, 'blunt': 697, 'burn': 698, 'forbid': 699, 'draw': 700, \"woman's\": 701, \"women's\": 702, 'woman': 703, 'wert': 704, 'moon': 705, 'cover': 706, 'bearing': 707, 'gavest': 708, 'burden': 709, \"express'd\": 710, 'turns': 711, 'therein': 712, 'cunning': 713, 'favour': 714, 'triumph': 715, 'frown': 716, 'fight': 717, 'thousand': 718, 'razed': 719, 'duty': 720, 'witness': 721, 'wanting': 722, 'star': 723, 'haste': 724, 'bed': 725, \"body's\": 726, 'looking': 727, 'farther': 728, 'blot': 729, 'flatter': 730, 'daily': 731, 'friends': 732, 'almost': 733, 'haply': 734, 'expense': 735, 'survey': 736, 'growing': 737, 'brought': 738, 'style': 739, 'basest': 740, 'ride': 741, 'west': 742, 'alack': 743, 'stain': 744, 'didst': 745, 'bears': 746, 'cross': 747, 'thorns': 748, 'amiss': 749, 'sins': 750, 'fault': 751, 'lawful': 752, 'plea': 753, 'twain': 754, 'remain': 755, 'evermore': 756, \"fortune's\": 757, 'dearest': 758, 'despised': 759, 'vulgar': 760, 'outlive': 761, 'manners': 762, 'greater': 763, 'injury': 764, 'foes': 765, 'because': 766, 'approve': 767, 'losing': 768, 'flattery': 769, 'dark': 770, 'shadows': 771, 'clear': 772, 'flesh': 773, 'matter': 774, 'foot': 775, 'soon': 776, \"eye's\": 777, 'picture': 778, 'sure': 779, 'chest': 780, 'whence': 781, 'prize': 782, 'pass': 783, 'greet': 784, 'reasons': 785, 'desert': 786, 'cause': 787, 'teach': 788, 'speed': 789, 'pace': 790, 'blest': 791, 'tend': 792, 'odour': 793, 'hang': 794, 'stone': 795, 'quick': 796, 'record': 797, 'edge': 798, 'appetite': 799, 'feeding': 800, 'fill': 801, 'ocean': 802, 'shore': 803, 'thrice': 804, 'fool': 805, 'god': 806, 'control': 807, 'doing': 808, 'five': 809, 'character': 810, 'wonder': 811, 'main': 812, \"crown'd\": 813, 'stands': 814, 'mock': 815, 'home': 816, 'elsewhere': 817, 'cost': 818, 'advantage': 819, 'action': 820, 'steel': 821, 'simple': 822, 'infection': 823, 'bastard': 824, \"another's\": 825, 'mend': 826, 'suspect': 827, 'flies': 828, 'mourn': 829, 'vile': 830, 'line': 831, 'thinking': 832, 'birds': 833, 'ground': 834, 'pine': 835, 'eternity': 836, 'acquaintance': 837, 'got': 838, 'double': 839, 'works': 840, 'fame': 841, 'sail': 842, 'anew': 843, 'silence': 844, \"know'st\": 845, 'bonds': 846, 'vow': 847, 'general': 848, \"what's\": 849, \"seem'd\": 850, 'despair': 851, 'growth': 852, 'colour': 853, 'over': 854, 'sinful': 855, 'constancy': 856, 'confined': 857, \"'fair\": 858, 'boy': 859, 'proved': 860, 'proof': 861, 'receives': 862, 'plague': 863, 'minds': 864, 'taken': 865, 'whereto': 866, 'unkind': 867, 'fingers': 868, 'kiss': 869, 'perjured': 870, 'came': 871, \"'i\": 872, \"hate'\": 873, 'sworn': 874, 'conscience': 875, 'oaths': 876, 'creatures': 877, 'thereby': 878, 'riper': 879, 'contracted': 880, 'bud': 881, 'content': 882, 'churl': 883, 'makest': 884, 'winters': 885, \"tatter'd\": 886, 'small': 887, 'held': 888, 'lusty': 889, \"'this\": 890, 'mother': 891, 'womb': 892, 'husbandry': 893, 'fond': 894, 'stop': 895, 'niggard': 896, 'bounteous': 897, 'usurer': 898, 'deceive': 899, 'gaze': 900, 'leads': 901, 'hideous': 902, 'sap': 903, \"check'd\": 904, 'bareness': 905, 'pent': 906, 'walls': 907, 'remembrance': 908, 'meet': 909, 'willing': 910, 'breed': 911, 'depart': 912, 'serving': 913, 'sacred': 914, 'majesty': 915, 'steep': 916, 'resembling': 917, 'attending': 918, 'pilgrimage': 919, 'pitch': 920, 'converted': 921, 'going': 922, \"unlook'd\": 923, 'delights': 924, 'concord': 925, 'sounds': 926, 'married': 927, 'sweetly': 928, 'mutual': 929, 'pleasing': 930, 'note': 931, 'speechless': 932, 'sings': 933, 'wail': 934, 'widow': 935, 'bosom': 936, 'himself': 937, 'commits': 938, 'deny': 939, \"possess'd\": 940, 'chief': 941, 'presence': 942, 'growest': 943, 'folly': 944, 'bounty': 945, 'copy': 946, 'clock': 947, 'tells': 948, 'violet': 949, 'lofty': 950, 'canopy': 951, 'borne': 952, 'question': 953, 'wastes': 954, 'forsake': 955, 'defence': 956, 'coming': 957, 'prepare': 958, 'issue': 959, 'wind': 960, 'princes': 961, 'thrive': 962, 'perfection': 963, 'little': 964, 'huge': 965, 'stage': 966, 'influence': 967, 'comment': 968, 'youthful': 969, 'inconstant': 970, 'sets': 971, 'wasteful': 972, 'fortify': 973, 'counterfeit': 974, 'pencil': 975, 'neither': 976, 'deserts': 977, 'poet': 978, 'faces': 979, \"poet's\": 980, 'alive': 981, 'twice': 982, 'winds': 983, 'shines': 984, 'often': 985, 'gold': 986, 'changing': 987, 'possession': 988, 'breathe': 989, 'keen': 990, 'fierce': 991, 'glad': 992, 'seasons': 993, \"whate'er\": 994, 'fading': 995, 'allow': 996, 'pattern': 997, 'master': 998, 'acquainted': 999, 'fashion': 1000, 'theirs': 1001, 'gilding': 1002, 'controlling': 1003, 'souls': 1004, 'created': 1005, 'wrought': 1006, 'doting': 1007, 'addition': 1008, \"fix'd\": 1009, 'slain': 1010, 'besides': 1011, 'replete': 1012, 'forget': 1013, 'perfect': 1014, 'plead': 1015, 'learn': 1016, 'silent': 1017, 'belongs': 1018, 'fine': 1019, 'painter': 1020, \"bosom's\": 1021, 'bars': 1022, 'remove': 1023, 'strongly': 1024, 'send': 1025, \"soul's\": 1026, 'moving': 1027, 'repose': 1028, 'limbs': 1029, 'travel': 1030, 'journey': 1031, 'abide': 1032, 'eyelids': 1033, 'open': 1034, 'sightless': 1035, 'hung': 1036, 'benefit': 1037, \"oppress'd\": 1038, 'enemies': 1039, \"either's\": 1040, 'reign': 1041, 'hands': 1042, 'torture': 1043, 'off': 1044, 'sorrows': 1045, 'nightly': 1046, 'stronger': 1047, 'cries': 1048, 'curse': 1049, \"man's\": 1050, 'sullen': 1051, 'hymns': 1052, 'brings': 1053, 'scorn': 1054, 'kings': 1055, 'hid': 1056, 'dateless': 1057, \"vanish'd\": 1058, 'heavily': 1059, 'supposed': 1060, 'obsequious': 1061, 'interest': 1062, 'lovers': 1063, 'survive': 1064, 'dust': 1065, 'deceased': 1066, 'bettering': 1067, 'reserve': 1068, 'vouchsafe': 1069, \"friend's\": 1070, 'dearer': 1071, 'died': 1072, 'poets': 1073, 'morning': 1074, 'mountain': 1075, 'pale': 1076, 'alchemy': 1077, 'anon': 1078, 'stealing': 1079, 'unseen': 1080, 'morn': 1081, 'triumphant': 1082, 'cloud': 1083, \"mask'd\": 1084, 'rotten': 1085, 'salve': 1086, 'physic': 1087, 'weak': 1088, 'ransom': 1089, 'trespass': 1090, 'sensual': 1091, 'sourly': 1092, 'robs': 1093, 'kindness': 1094, 'sort': 1095, 'lame': 1096, 'sit': 1097, 'invent': 1098, 'aught': 1099, 'slight': 1100, \"'t\": 1101, 'us': 1102, 'torment': 1103, 'sour': 1104, 'praising': 1105, 'hadst': 1106, 'blamed': 1107, 'wilful': 1108, 'robbery': 1109, 'poverty': 1110, 'lascivious': 1111, 'petty': 1112, 'wrongs': 1113, 'liberty': 1114, 'years': 1115, 'temptation': 1116, 'ay': 1117, 'seat': 1118, 'forbear': 1119, 'lead': 1120, 'ye': 1121, 'lay': 1122, 'wink': 1123, 'unrespected': 1124, 'dreams': 1125, 'clearer': 1126, 'nights': 1127, 'injurious': 1128, 'farthest': 1129, 'nimble': 1130, 'leap': 1131, 'miles': 1132, 'elements': 1133, 'health': 1134, 'title': 1135, 'quest': 1136, 'feast': 1137, 'guest': 1138, 'either': 1139, 'careful': 1140, 'falsehood': 1141, 'jewels': 1142, 'prey': 1143, 'feel': 1144, 'thievish': 1145, 'cast': 1146, \"call'd\": 1147, 'strangely': 1148, 'guard': 1149, 'ease': 1150, 'beast': 1151, 'wretch': 1152, 'spur': 1153, 'offence': 1154, 'horse': 1155, 'towards': 1156, 'point': 1157, 'seldom': 1158, 'captain': 1159, 'special': 1160, \"imprison'd\": 1161, \"lack'd\": 1162, 'whereof': 1163, 'deaths': 1164, 'gilded': 1165, 'powerful': 1166, 'root': 1167, \"lover's\": 1168, 'force': 1169, 'hungry': 1170, 'perpetual': 1171, 'welcome': 1172, 'watch': 1173, 'bitterness': 1174, 'affairs': 1175, 'thinks': 1176, 'vassal': 1177, 'bound': 1178, 'suffer': 1179, 'patience': 1180, 'bide': 1181, 'check': 1182, 'charter': 1183, 'privilege': 1184, 'belong': 1185, 'wait': 1186, 'wits': 1187, 'subjects': 1188, 'goes': 1189, 'crooked': 1190, 'confound': 1191, 'feeds': 1192, 'shames': 1193, 'idle': 1194, 'remedy': 1195, 'grounded': 1196, 'antiquity': 1197, \"age's\": 1198, 'king': 1199, 'outworn': 1200, 'ink': 1201, 'cry': 1202, 'sway': 1203, 'lively': 1204, 'veins': 1205, 'last': 1206, 'map': 1207, 'gay': 1208, 'shown': 1209, 'guess': 1210, 'measure': 1211, 'defect': 1212, 'crow': 1213, 'slander': 1214, 'pure': 1215, \"pass'd\": 1216, 'tie': 1217, 'envy': 1218, 'fled': 1219, 'nay': 1220, 'remember': 1221, 'wise': 1222, 'devise': 1223, 'untrue': 1224, 'yellow': 1225, \"ruin'd\": 1226, 'bail': 1227, 'showers': 1228, 'peace': 1229, \"'twixt\": 1230, 'doubting': 1231, 'counting': 1232, 'possessing': 1233, 'glance': 1234, 'aside': 1235, 'compounds': 1236, 'noted': 1237, 'word': 1238, 'telling': 1239, 'dial': 1240, 'learning': 1241, 'ignorance': 1242, 'added': 1243, 'aid': 1244, 'pays': 1245, 'humble': 1246, 'saucy': 1247, 'bark': 1248, 'worthless': 1249, 'yield': 1250, 'monument': 1251, 'finding': 1252, 'gross': 1253, 'quill': 1254, 'mute': 1255, 'example': 1256, 'comments': 1257, 'affords': 1258, 'praised': 1259, 'something': 1260, 'spirits': 1261, 'giving': 1262, 'riches': 1263, 'comes': 1264, 'dream': 1265, 'bending': 1266, 'injuries': 1267, 'vantage': 1268, 'desired': 1269, 'walks': 1270, 'bent': 1271, 'bow': 1272, 'hawks': 1273, 'humour': 1274, 'adjunct': 1275, 'finds': 1276, 'depends': 1277, 'vex': 1278, 'deceived': 1279, \"alter'd\": 1280, 'creation': 1281, 'sweetness': 1282, 'excellence': 1283, 'sport': 1284, 'mansion': 1285, \"esteem'd\": 1286, \"deem'd\": 1287, 'betray': 1288, 'autumn': 1289, 'dyed': 1290, 'blushing': 1291, 'esteem': 1292, 'rise': 1293, 'neglect': 1294, 'seems': 1295, \"turn'd\": 1296, 'perfumes': 1297, 'wondrous': 1298, \"true'\": 1299, \"look'd\": 1300, 'forfeit': 1301, 'express': 1302, 'divine': 1303, 'bred': 1304, 'frailties': 1305, 'alas': 1306, 'newer': 1307, 'next': 1308, 'guilty': 1309, 'goddess': 1310, 'drink': 1311, 'potions': 1312, 'bitter': 1313, 'strive': 1314, 'objects': 1315, 'palate': 1316, 'vows': 1317, 'alters': 1318, 'shaken': 1319, 'unknown': 1320, 'accuse': 1321, 'level': 1322, 'urge': 1323, 'maladies': 1324, 'shun': 1325, 'diseased': 1326, 'policy': 1327, 'healthful': 1328, 'goodness': 1329, 'hopes': 1330, 'fever': 1331, 'built': 1332, 'unkindness': 1333, 'becomes': 1334, 'feeling': 1335, 'wills': 1336, 'tables': 1337, 'bold': 1338, 'discontent': 1339, 'bore': 1340, 'render': 1341, \"borrow'd\": 1342, 'profaned': 1343, 'mourners': 1344, 'becoming': 1345, 'wood': 1346, 'jacks': 1347, 'lust': 1348, 'extreme': 1349, 'sooner': 1350, 'pursuit': 1351, 'wires': 1352, 'sound': 1353, 'belied': 1354, 'disdain': 1355, 'pretty': 1356, 'mourning': 1357, 'suit': 1358, 'fulfil': 1359, 'corrupt': 1360, 'vainly': 1361, 'ears': 1362, 'despise': 1363, 'dote': 1364, 'broke': 1365, 'chase': 1366, 'follow': 1367, 'fiend': 1368, 'abhor': 1369, 'cupid': 1370, 'asleep': 1371, \"feed'st\": 1372, \"light'st\": 1373, 'substantial': 1374, 'fuel': 1375, 'famine': 1376, 'foe': 1377, 'herald': 1378, 'gaudy': 1379, 'buriest': 1380, 'niggarding': 1381, 'glutton': 1382, 'forty': 1383, 'beseige': 1384, 'dig': 1385, 'trenches': 1386, 'field': 1387, \"youth's\": 1388, 'livery': 1389, 'gazed': 1390, \"ask'd\": 1391, 'sunken': 1392, 'eating': 1393, 'thriftless': 1394, 'deserved': 1395, 'couldst': 1396, 'proving': 1397, 'succession': 1398, 'warm': 1399, \"feel'st\": 1400, 'viewest': 1401, 'renewest': 1402, 'beguile': 1403, 'unbless': 1404, \"unear'd\": 1405, 'disdains': 1406, 'tillage': 1407, 'dies': 1408, 'unthrifty': 1409, 'loveliness': 1410, 'legacy': 1411, 'bequest': 1412, 'frank': 1413, 'largess': 1414, 'profitless': 1415, 'sums': 1416, 'traffic': 1417, 'acceptable': 1418, \"tomb'd\": 1419, \"th'\": 1420, 'executor': 1421, 'tyrants': 1422, 'unfair': 1423, 'fairly': 1424, 'excel': 1425, 'resting': 1426, 'frost': 1427, \"o'ersnow'd\": 1428, 'distillation': 1429, 'liquid': 1430, 'prisoner': 1431, 'bereft': 1432, 'leese': 1433, 'ragged': 1434, 'deface': 1435, 'vial': 1436, \"kill'd\": 1437, 'forbidden': 1438, 'usury': 1439, 'happies': 1440, 'loan': 1441, \"that's\": 1442, 'refigured': 1443, 'leaving': 1444, \"will'd\": 1445, 'orient': 1446, 'lifts': 1447, 'burning': 1448, 'homage': 1449, 'appearing': 1450, \"climb'd\": 1451, 'hill': 1452, 'middle': 1453, 'adore': 1454, 'highmost': 1455, 'car': 1456, 'feeble': 1457, 'reeleth': 1458, \"'fore\": 1459, 'duteous': 1460, 'low': 1461, 'tract': 1462, 'noon': 1463, 'diest': 1464, 'get': 1465, \"hear'st\": 1466, 'sadly': 1467, 'gladly': 1468, 'annoy': 1469, 'tuned': 1470, 'unions': 1471, 'offend': 1472, 'singleness': 1473, 'string': 1474, 'strikes': 1475, 'ordering': 1476, 'sire': 1477, \"'thou\": 1478, 'wet': 1479, \"widow's\": 1480, 'consumest': 1481, 'issueless': 1482, 'hap': 1483, 'makeless': 1484, 'wife': 1485, 'private': 1486, \"children's\": 1487, \"husband's\": 1488, 'unthrift': 1489, 'shifts': 1490, 'enjoys': 1491, 'user': 1492, 'destroys': 1493, 'toward': 1494, 'sits': 1495, \"bear'st\": 1496, 'unprovident': 1497, 'evident': 1498, \"stick'st\": 1499, 'conspire': 1500, 'seeking': 1501, 'roof': 1502, 'ruinate': 1503, 'lodged': 1504, 'hearted': 1505, 'wane': 1506, 'departest': 1507, 'youngly': 1508, 'bestowest': 1509, 'convertest': 1510, 'herein': 1511, 'wisdom': 1512, 'minded': 1513, 'cease': 1514, 'threescore': 1515, 'harsh': 1516, 'featureless': 1517, 'barrenly': 1518, 'perish': 1519, \"endow'd\": 1520, 'cherish': 1521, 'carved': 1522, 'seal': 1523, 'meant': 1524, 'print': 1525, 'sunk': 1526, 'sable': 1527, 'curls': 1528, \"silver'd\": 1529, 'trees': 1530, 'erst': 1531, 'herd': 1532, 'girded': 1533, 'sheaves': 1534, 'bier': 1535, 'bristly': 1536, 'beard': 1537, 'semblance': 1538, 'determination': 1539, \"yourself's\": 1540, 'lets': 1541, 'house': 1542, 'uphold': 1543, 'stormy': 1544, 'gusts': 1545, 'unthrifts': 1546, 'astronomy': 1547, 'luck': 1548, 'plagues': 1549, 'dearths': 1550, \"seasons'\": 1551, 'quality': 1552, 'pointing': 1553, 'thunder': 1554, 'predict': 1555, 'derive': 1556, 'together': 1557, 'convert': 1558, 'prognosticate': 1559, \"truth's\": 1560, 'consider': 1561, 'moment': 1562, 'presenteth': 1563, 'secret': 1564, 'perceive': 1565, 'plants': 1566, 'cheered': 1567, 'sky': 1568, 'vaunt': 1569, 'decrease': 1570, 'debateth': 1571, 'sullied': 1572, 'engraft': 1573, 'mightier': 1574, 'top': 1575, 'gardens': 1576, 'unset': 1577, 'liker': 1578, 'pupil': 1579, 'hides': 1580, \"touch'd\": 1581, 'earthly': 1582, 'papers': 1583, \"yellow'd\": 1584, \"scorn'd\": 1585, 'rights': 1586, \"term'd\": 1587, 'stretched': 1588, 'metre': 1589, 'xviii': 1590, 'temperate': 1591, 'rough': 1592, 'darling': 1593, \"dimm'd\": 1594, 'declines': 1595, 'chance': 1596, \"untrimm'd\": 1597, 'owest': 1598, 'brag': 1599, \"wander'st\": 1600, 'devouring': 1601, \"lion's\": 1602, 'paws': 1603, 'devour': 1604, 'brood': 1605, 'teeth': 1606, \"tiger's\": 1607, 'jaws': 1608, 'phoenix': 1609, 'sorry': 1610, 'fleets': 1611, 'footed': 1612, 'heinous': 1613, 'carve': 1614, 'untainted': 1615, 'succeeding': 1616, 'passion': 1617, 'shifting': 1618, 'rolling': 1619, 'object': 1620, 'whereupon': 1621, 'gazeth': 1622, \"'hues'\": 1623, 'steals': 1624, 'amazeth': 1625, 'defeated': 1626, 'adding': 1627, \"prick'd\": 1628, \"stirr'd\": 1629, 'couplement': 1630, \"sea's\": 1631, 'gems': 1632, \"april's\": 1633, 'rondure': 1634, 'hems': 1635, \"o'\": 1636, 'candles': 1637, 'hearsay': 1638, 'sell': 1639, 'persuade': 1640, 'furrows': 1641, 'expiate': 1642, 'seemly': 1643, 'raiment': 1644, 'elder': 1645, 'wary': 1646, 'chary': 1647, 'nurse': 1648, 'faring': 1649, 'presume': 1650, 'unperfect': 1651, 'actor': 1652, \"strength's\": 1653, 'weakens': 1654, 'ceremony': 1655, 'rite': 1656, \"o'ercharged\": 1657, 'books': 1658, 'eloquence': 1659, 'presagers': 1660, 'recompense': 1661, \"play'd\": 1662, \"stell'd\": 1663, 'table': 1664, 'perspective': 1665, \"painter's\": 1666, 'pictured': 1667, 'shop': 1668, 'hanging': 1669, 'glazed': 1670, 'peep': 1671, 'titles': 1672, \"princes'\": 1673, 'favourites': 1674, 'spread': 1675, 'marigold': 1676, \"sun's\": 1677, 'painful': 1678, 'warrior': 1679, 'famoused': 1680, 'victories': 1681, \"foil'd\": 1682, \"toil'd\": 1683, 'ord': 1684, 'vassalage': 1685, 'knit': 1686, 'written': 1687, 'embassage': 1688, 'naked': 1689, 'bestow': 1690, 'whatsoever': 1691, 'guides': 1692, 'points': 1693, 'graciously': 1694, 'aspect': 1695, 'puts': 1696, 'apparel': 1697, 'begins': 1698, \"work's\": 1699, 'expired': 1700, 'intend': 1701, 'zealous': 1702, 'drooping': 1703, 'darkness': 1704, 'imaginary': 1705, 'presents': 1706, 'ghastly': 1707, 'quiet': 1708, 'ow': 1709, 'plight': 1710, \"debarr'd\": 1711, \"day's\": 1712, 'oppression': 1713, 'eased': 1714, 'consent': 1715, 'complain': 1716, 'swart': 1717, \"complexion'd\": 1718, 'sparkling': 1719, 'twire': 1720, \"gild'st\": 1721, \"grief's\": 1722, 'strengthseem': 1723, 'beweep': 1724, 'outcast': 1725, 'trouble': 1726, 'deaf': 1727, 'bootless': 1728, 'fate': 1729, 'wishing': 1730, 'featured': 1731, 'desiring': 1732, 'enjoy': 1733, 'despising': 1734, 'lark': 1735, 'arising': 1736, 'gate': 1737, 'sessions': 1738, 'summon': 1739, 'sigh': 1740, 'sought': 1741, 'woes': 1742, 'drown': 1743, 'flow': 1744, 'afresh': 1745, \"cancell'd\": 1746, 'grieve': 1747, 'grievances': 1748, 'foregone': 1749, 'fore': 1750, 'bemoaned': 1751, 'paid': 1752, 'losses': 1753, 'restored': 1754, 'endeared': 1755, 'lacking': 1756, 'reigns': 1757, 'tear': 1758, 'religious': 1759, 'hidden': 1760, 'trophies': 1761, 'images': 1762, 'bones': 1763, 're': 1764, 'lover': 1765, \"outstripp'd\": 1766, 'exceeded': 1767, \"'had\": 1768, 'march': 1769, 'ranks': 1770, 'equipage': 1771, 'glorious': 1772, 'tops': 1773, 'kissing': 1774, 'meadows': 1775, 'streams': 1776, 'permit': 1777, 'ugly': 1778, 'rack': 1779, 'celestial': 1780, 'forlorn': 1781, 'visage': 1782, 'early': 1783, 'splendor': 1784, 'region': 1785, 'whit': 1786, 'disdaineth': 1787, 'suns': 1788, 'staineth': 1789, 'promise': 1790, 'cloak': 1791, \"o'ertake\": 1792, 'hiding': 1793, 'bravery': 1794, 'smoke': 1795, 'dry': 1796, 'storm': 1797, 'beaten': 1798, 'heals': 1799, 'cures': 1800, 'repent': 1801, \"offender's\": 1802, 'relief': 1803, \"offence's\": 1804, 'pearl': 1805, 'sheds': 1806, 'grieved': 1807, 'silver': 1808, 'fountains': 1809, 'mud': 1810, 'eclipses': 1811, 'loathsome': 1812, 'authorizing': 1813, 'corrupting': 1814, 'salving': 1815, 'excusing': 1816, 'adverse': 1817, 'party': 1818, 'advocate': 1819, 'commence': 1820, 'civil': 1821, 'accessary': 1822, 'confess': 1823, 'undivided': 1824, 'blots': 1825, 'separable': 1826, 'alter': 1827, 'sole': 1828, 'acknowledge': 1829, 'bewailed': 1830, 'guilt': 1831, 'decrepit': 1832, 'active': 1833, 'entitled': 1834, 'crowned': 1835, 'engrafted': 1836, 'sufficed': 1837, \"pour'st\": 1838, 'excellent': 1839, 'paper': 1840, 'thanks': 1841, 'perusal': 1842, \"who's\": 1843, 'tenth': 1844, 'nine': 1845, 'rhymers': 1846, 'invocate': 1847, 'curious': 1848, 'divided': 1849, 'separation': 1850, 'deservest': 1851, 'entertain': 1852, 'teachest': 1853, 'yea': 1854, 'usest': 1855, 'deceivest': 1856, 'refusest': 1857, 'forgive': 1858, \"hate's\": 1859, 'known': 1860, 'spites': 1861, 'befits': 1862, 'follows': 1863, 'won': 1864, 'assailed': 1865, 'woos': 1866, 'prevailed': 1867, 'mightest': 1868, 'straying': 1869, 'riot': 1870, 'forced': 1871, 'twofold': 1872, 'hers': 1873, 'tempting': 1874, 'dearly': 1875, 'wailing': 1876, 'nearly': 1877, 'offenders': 1878, 'knowst': 1879, 'suffering': 1880, \"here's\": 1881, 'darkly': 1882, 'directed': 1883, \"shadow's\": 1884, 'unseeing': 1885, 'imperfect': 1886, 'distance': 1887, 'space': 1888, 'limits': 1889, 'remote': 1890, 'jump': 1891, 'land': 1892, 'kills': 1893, 'lengths': 1894, 'attend': 1895, 'receiving': 1896, 'badges': 1897, 'purging': 1898, 'wherever': 1899, 'slide': 1900, 'quicker': 1901, 'embassy': 1902, 'four': 1903, 'sinks': 1904, 'melancholy': 1905, 'until': 1906, \"life's\": 1907, 'composition': 1908, 'recured': 1909, 'messengers': 1910, \"return'd\": 1911, 'recounting': 1912, 'divide': 1913, \"picture's\": 1914, 'bar': 1915, 'freedom': 1916, 'closet': 1917, 'pierced': 1918, 'crystal': 1919, 'defendant': 1920, 'appearance': 1921, \"'cide\": 1922, 'impanneled': 1923, 'tenants': 1924, 'verdict': 1925, 'determined': 1926, 'moiety': 1927, 'betwixt': 1928, 'league': 1929, 'unto': 1930, \"famish'd\": 1931, 'sighs': 1932, 'smother': 1933, 'banquet': 1934, 'bids': 1935, 'share': 1936, 'resent': 1937, 'move': 1938, 'awakes': 1939, 'trifle': 1940, 'truest': 1941, 'thrust': 1942, 'wards': 1943, 'trifles': 1944, 'greatest': 1945, \"lock'd\": 1946, 'closure': 1947, 'proves': 1948, 'defects': 1949, 'utmost': 1950, 'advised': 1951, 'respects': 1952, 'scarcely': 1953, 'settled': 1954, 'gravity': 1955, 'ensconce': 1956, 'uprear': 1957, 'laws': 1958, 'allege': 1959, \"travel's\": 1960, \"'thus\": 1961, 'measured': 1962, 'plods': 1963, 'dully': 1964, 'weight': 1965, 'instinct': 1966, 'rider': 1967, 'provoke': 1968, 'sometimes': 1969, 'anger': 1970, 'thrusts': 1971, 'answers': 1972, 'sharp': 1973, 'spurring': 1974, 'onward': 1975, 'bearer': 1976, 'posting': 1977, 'extremity': 1978, 'mounted': 1979, 'winged': 1980, \"perfect'st\": 1981, 'neigh': 1982, 'fiery': 1983, 'race': 1984, 'jade': 1985, 'went': 1986, 'run': 1987, 'key': 1988, 'locked': 1989, 'blunting': 1990, 'feasts': 1991, 'solemn': 1992, 'stones': 1993, 'thinly': 1994, 'placed': 1995, 'carcanet': 1996, 'wardrobe': 1997, 'robe': 1998, 'instant': 1999, 'unfolding': 2000, 'worthiness': 2001, 'millions': 2002, 'describe': 2003, 'adonis': 2004, 'poorly': 2005, 'imitated': 2006, \"helen's\": 2007, 'grecian': 2008, 'tires': 2009, 'foison': 2010, 'external': 2011, 'deem': 2012, 'blooms': 2013, 'dye': 2014, 'perfumed': 2015, 'tincture': 2016, 'wantonly': 2017, 'masked': 2018, 'discloses': 2019, \"unwoo'd\": 2020, 'odours': 2021, 'distills': 2022, 'marble': 2023, 'monuments': 2024, 'contents': 2025, 'unswept': 2026, \"besmear'd\": 2027, 'sluttish': 2028, 'statues': 2029, 'overturn': 2030, 'broils': 2031, 'masonry': 2032, 'mars': 2033, 'sword': 2034, \"war's\": 2035, 'oblivious': 2036, 'enmity': 2037, 'room': 2038, 'ending': 2039, 'arise': 2040, 'renew': 2041, 'blunter': 2042, \"allay'd\": 2043, \"sharpen'd\": 2044, 'fullness': 2045, 'dullness': 2046, 'interim': 2047, 'banks': 2048, \"wish'd\": 2049, 'services': 2050, 'require': 2051, 'bid': 2052, 'servant': 2053, 'adieu': 2054, 'jealous': 2055, 'suppose': 2056, 'crave': 2057, 'beck': 2058, 'tame': 2059, 'sufferance': 2060, 'accusing': 2061, 'list': 2062, 'pardon': 2063, 'waiting': 2064, 'brains': 2065, 'beguiled': 2066, 'labouring': 2067, 'backward': 2068, 'hundred': 2069, 'courses': 2070, 'composed': 2071, 'mended': 2072, 'revolution': 2073, 'admiring': 2074, 'waves': 2075, 'pebbled': 2076, 'hasten': 2077, 'sequent': 2078, 'forwards': 2079, 'contend': 2080, 'nativity': 2081, 'crawls': 2082, 'maturity': 2083, 'wherewith': 2084, 'elipses': 2085, 'transfix': 2086, 'flourish': 2087, 'delves': 2088, 'parallels': 2089, 'rarities': 2090, 'mow': 2091, 'slumbers': 2092, 'broken': 2093, \"send'st\": 2094, 'pry': 2095, 'tenor': 2096, 'jealousy': 2097, 'awake': 2098, 'defeat': 2099, 'watchman': 2100, 'wake': 2101, 'possesseth': 2102, 'define': 2103, 'worths': 2104, 'surmount': 2105, 'indeed': 2106, 'beated': 2107, \"chopp'd\": 2108, \"tann'd\": 2109, 'contrary': 2110, 'iniquity': 2111, \"crush'd\": 2112, 'worn': 2113, \"drain'd\": 2114, \"travell'd\": 2115, 'steepy': 2116, \"he's\": 2117, 'vanishing': 2118, 'confounding': 2119, 'cut': 2120, 'defaced': 2121, 'towers': 2122, 'kingdom': 2123, 'firm': 2124, 'soil': 2125, 'watery': 2126, 'increasing': 2127, 'interchange': 2128, 'confounded': 2129, 'ruin': 2130, 'ruminate': 2131, 'choose': 2132, 'boundless': 2133, 'mortality': 2134, 'sways': 2135, 'honey': 2136, 'wreckful': 2137, 'siege': 2138, 'battering': 2139, 'rocks': 2140, 'impregnable': 2141, 'stout': 2142, 'gates': 2143, 'decays': 2144, 'fearful': 2145, 'meditation': 2146, 'spoil': 2147, 'miracle': 2148, 'restful': 2149, 'beggar': 2150, 'needy': 2151, \"trimm'd\": 2152, 'jollity': 2153, 'purest': 2154, 'unhappily': 2155, 'guilded': 2156, 'shamefully': 2157, 'misplaced': 2158, 'rudely': 2159, 'strumpeted': 2160, 'wrongfully': 2161, 'disgraced': 2162, 'limping': 2163, 'disabled': 2164, 'authority': 2165, 'doctor': 2166, \"miscall'd\": 2167, 'simplicity': 2168, 'captive': 2169, 'impiety': 2170, 'achieve': 2171, 'lace': 2172, 'society': 2173, 'imitate': 2174, 'indirectly': 2175, 'bankrupt': 2176, \"beggar'd\": 2177, 'blush': 2178, 'excheckr': 2179, 'gains': 2180, 'stores': 2181, 'signs': 2182, 'durst': 2183, 'inhabit': 2184, 'tresses': 2185, 'sepulchres': 2186, 'shorn': 2187, 'fleece': 2188, 'robbing': 2189, 'dress': 2190, 'yore': 2191, 'voice': 2192, 'uttering': 2193, 'commend': 2194, 'accents': 2195, 'churls': 2196, 'matcheth': 2197, 'solve': 2198, \"slander's\": 2199, \"woo'd\": 2200, 'vice': 2201, \"present'st\": 2202, 'unstained': 2203, 'ambush': 2204, \"assail'd\": 2205, 'victor': 2206, 'charged': 2207, 'enlarged': 2208, 'kingdoms': 2209, 'owe': 2210, 'surly': 2211, 'bell': 2212, 'warning': 2213, 'vilest': 2214, 'perhaps': 2215, 'compounded': 2216, 'clay': 2217, 'task': 2218, 'recite': 2219, 'willingly': 2220, 'impart': 2221, 'shamed': 2222, 'few': 2223, 'boughs': 2224, 'choirs': 2225, 'late': 2226, 'sang': 2227, 'seest': 2228, 'twilight': 2229, 'sunset': 2230, 'fadeth': 2231, 'seals': 2232, \"see'st\": 2233, 'glowing': 2234, 'ashes': 2235, 'expire': 2236, 'consumed': 2237, \"nourish'd\": 2238, 'perceivest': 2239, 'arrest': 2240, 'carry': 2241, 'memorial': 2242, 'reviewest': 2243, 'review': 2244, 'consecrate': 2245, 'dregs': 2246, 'coward': 2247, \"wretch's\": 2248, 'remembered': 2249, 'contains': 2250, 'remains': 2251, 'food': 2252, \"season'd\": 2253, 'strife': 2254, 'miser': 2255, 'enjoyer': 2256, 'filching': 2257, \"better'd\": 2258, 'feasting': 2259, 'clean': 2260, 'starved': 2261, 'pursuing': 2262, 'surfeit': 2263, 'gluttoning': 2264, 'variation': 2265, 'methods': 2266, 'showing': 2267, 'proceed': 2268, 'always': 2269, 'dressing': 2270, 'spending': 2271, 'already': 2272, 'vacant': 2273, \"mind's\": 2274, 'imprint': 2275, 'mouthed': 2276, 'graves': 2277, \"dial's\": 2278, 'shady': 2279, 'stealth': 2280, 'progress': 2281, 'contain': 2282, 'commit': 2283, 'blanks': 2284, 'children': 2285, 'nursed': 2286, \"deliver'd\": 2287, 'offices': 2288, 'profit': 2289, 'enrich': 2290, 'invoked': 2291, 'assistance': 2292, 'alien': 2293, 'poesy': 2294, 'disperse': 2295, 'aloft': 2296, 'fly': 2297, 'feathers': 2298, \"learned's\": 2299, 'wing': 2300, 'compile': 2301, 'arts': 2302, 'graced': 2303, 'advance': 2304, \"decay'd\": 2305, 'deserves': 2306, 'travail': 2307, 'worthier': 2308, 'stole': 2309, 'behavior': 2310, 'afford': 2311, 'thank': 2312, 'owes': 2313, 'faint': 2314, 'thereof': 2315, 'spends': 2316, 'proudest': 2317, 'inferior': 2318, 'broad': 2319, 'wilfully': 2320, 'shallowest': 2321, 'afloat': 2322, 'soundless': 2323, \"wreck'd\": 2324, 'boat': 2325, 'tall': 2326, 'building': 2327, 'goodly': 2328, 'epitaph': 2329, 'forgotten': 2330, 'immortal': 2331, 'entombed': 2332, 'breathers': 2333, 'breathes': 2334, 'mouths': 2335, 'attaint': 2336, \"o'erlook\": 2337, 'dedicated': 2338, 'writers': 2339, 'blessing': 2340, 'limit': 2341, 'enforced': 2342, 'fresher': 2343, 'stamp': 2344, 'devised': 2345, 'strained': 2346, 'rhetoric': 2347, 'sympathized': 2348, 'plain': 2349, 'abused': 2350, 'exceed': 2351, 'debt': 2352, 'slept': 2353, 'extant': 2354, 'modern': 2355, 'impute': 2356, 'impair': 2357, 'confine': 2358, 'immured': 2359, 'equal': 2360, 'lean': 2361, 'penury': 2362, 'writes': 2363, 'dignifies': 2364, 'counterpart': 2365, 'admired': 2366, 'blessings': 2367, 'richly': 2368, 'compiled': 2369, 'phrase': 2370, 'muses': 2371, 'filed': 2372, \"unletter'd\": 2373, 'clerk': 2374, \"'amen'\": 2375, 'hymn': 2376, 'able': 2377, \"polish'd\": 2378, 'refined': 2379, 'hearing': 2380, \"''tis\": 2381, 'hindmost': 2382, 'ripe': 2383, 'inhearse': 2384, 'struck': 2385, 'compeers': 2386, 'astonished': 2387, 'affable': 2388, 'familiar': 2389, 'ghost': 2390, 'gulls': 2391, 'intelligence': 2392, 'victors': 2393, 'countenance': 2394, 'enfeebled': 2395, 'farewell': 2396, 'estimate': 2397, 'releasing': 2398, 'determinate': 2399, 'granting': 2400, 'deserving': 2401, 'patent': 2402, 'swerving': 2403, 'mistaking': 2404, 'misprision': 2405, 'waking': 2406, 'disposed': 2407, 'weakness': 2408, \"conceal'd\": 2409, 'attainted': 2410, 'gainer': 2411, 'lameness': 2412, 'halt': 2413, 'strangle': 2414, 'profane': 2415, 'debate': 2416, 'join': 2417, 'drop': 2418, \"'scoped\": 2419, 'rearward': 2420, \"conquer'd\": 2421, 'windy': 2422, 'rainy': 2423, 'linger': 2424, 'purposed': 2425, 'overthrow': 2426, 'griefs': 2427, 'onset': 2428, 'strains': 2429, 'compared': 2430, \"bodies'\": 2431, 'garments': 2432, 'fangled': 2433, 'hounds': 2434, 'particulars': 2435, 'richer': 2436, 'prouder': 2437, \"garments'\": 2438, 'horses': 2439, 'term': 2440, 'depend': 2441, 'revolt': 2442, 'supposing': 2443, 'hatred': 2444, \"many's\": 2445, 'history': 2446, 'moods': 2447, 'frowns': 2448, 'decree': 2449, 'workings': 2450, \"eve's\": 2451, 'apple': 2452, 'hurt': 2453, 'unmoved': 2454, 'rightly': 2455, 'inherit': 2456, 'lords': 2457, 'owners': 2458, 'stewards': 2459, 'outbraves': 2460, 'dignity': 2461, 'sourest': 2462, 'lilies': 2463, 'fester': 2464, 'fragrant': 2465, 'spot': 2466, 'budding': 2467, 'enclose': 2468, 'dispraise': 2469, 'naming': 2470, 'blesses': 2471, 'vices': 2472, 'habitation': 2473, 'chose': 2474, 'veil': 2475, 'heed': 2476, 'hardest': 2477, 'wantonness': 2478, 'resort': 2479, 'finger': 2480, 'throned': 2481, 'queen': 2482, 'truths': 2483, 'translated': 2484, 'lambs': 2485, 'stern': 2486, 'wolf': 2487, 'lamb': 2488, 'translate': 2489, 'gazers': 2490, 'mightst': 2491, 'fleeting': 2492, 'freezings': 2493, 'felt': 2494, \"december's\": 2495, 'teeming': 2496, 'big': 2497, 'wanton': 2498, \"widow'd\": 2499, 'wombs': 2500, \"lords'\": 2501, 'abundant': 2502, 'orphans': 2503, \"unfather'd\": 2504, 'fruit': 2505, 'pleasures': 2506, 'cheer': 2507, 'dreading': 2508, 'pied': 2509, \"dress'd\": 2510, 'trim': 2511, 'saturn': 2512, \"laugh'd\": 2513, \"leap'd\": 2514, 'different': 2515, 'lap': 2516, \"lily's\": 2517, 'vermilion': 2518, 'figures': 2519, 'forward': 2520, 'smells': 2521, 'purple': 2522, 'soft': 2523, 'dwells': 2524, 'grossly': 2525, 'lily': 2526, 'condemned': 2527, 'marjoram': 2528, 'hair': 2529, 'fearfully': 2530, 'third': 2531, \"annex'd\": 2532, 'theft': 2533, 'vengeful': 2534, \"forget'st\": 2535, \"spend'st\": 2536, 'fury': 2537, 'darkening': 2538, 'forgetful': 2539, 'redeem': 2540, 'idly': 2541, 'resty': 2542, 'wrinkle': 2543, 'graven': 2544, 'satire': 2545, 'spoils': 2546, 'faster': 2547, \"prevent'st\": 2548, 'truant': 2549, 'amends': 2550, 'dignified': 2551, \"'truth\": 2552, \"intermix'd\": 2553, \"for't\": 2554, 'ages': 2555, 'office': 2556, \"strengthen'd\": 2557, 'merchandized': 2558, 'esteeming': 2559, \"owner's\": 2560, 'publish': 2561, 'wont': 2562, 'philomel': 2563, 'front': 2564, 'stops': 2565, 'pipe': 2566, 'pleasant': 2567, 'mournful': 2568, 'hush': 2569, 'wild': 2570, 'burthens': 2571, 'bough': 2572, 'beside': 2573, 'appears': 2574, 'dulling': 2575, 'striving': 2576, 'mar': 2577, 'verses': 2578, 'gifts': 2579, 'eyed': 2580, 'forests': 2581, 'shook': 2582, \"summers'\": 2583, 'springs': 2584, 'process': 2585, 'junes': 2586, \"burn'd\": 2587, 'figure': 2588, 'perceived': 2589, 'unbred': 2590, 'idolatry': 2591, 'idol': 2592, 'alike': 2593, 'songs': 2594, 'expressing': 2595, 'difference': 2596, 'varying': 2597, 'themes': 2598, 'chronicle': 2599, 'wasted': 2600, 'descriptions': 2601, 'wights': 2602, 'beautiful': 2603, 'ladies': 2604, 'knights': 2605, 'blazon': 2606, 'lip': 2607, 'prophecies': 2608, 'prefiguring': 2609, 'divining': 2610, 'prophetic': 2611, 'dreaming': 2612, 'eclipse': 2613, 'endured': 2614, 'augurs': 2615, 'presage': 2616, 'incertainties': 2617, 'crown': 2618, 'proclaims': 2619, 'olives': 2620, 'endless': 2621, 'drops': 2622, 'balmy': 2623, 'subscribes': 2624, 'insults': 2625, 'tribes': 2626, \"tyrants'\": 2627, 'crests': 2628, 'tombs': 2629, 'figured': 2630, 'register': 2631, 'prayers': 2632, \"hallow'd\": 2633, 'case': 2634, 'weighs': 2635, 'necessary': 2636, 'aye': 2637, 'page': 2638, 'qualify': 2639, 'easy': 2640, 'ranged': 2641, 'travels': 2642, 'exchanged': 2643, \"reign'd\": 2644, 'besiege': 2645, 'kinds': 2646, 'preposterously': 2647, \"stain'd\": 2648, 'universe': 2649, 'motley': 2650, 'gored': 2651, 'sold': 2652, 'cheap': 2653, 'offences': 2654, 'affections': 2655, 'askance': 2656, 'blenches': 2657, 'essays': 2658, 'grind': 2659, 'try': 2660, 'older': 2661, 'harmful': 2662, 'provide': 2663, 'breeds': 2664, 'subdued': 2665, \"dyer's\": 2666, \"renew'd\": 2667, 'patient': 2668, 'eisel': 2669, 'penance': 2670, 'correct': 2671, 'correction': 2672, 'assure': 2673, 'impression': 2674, 'scandal': 2675, \"stamp'd\": 2676, \"steel'd\": 2677, 'changes': 2678, 'profound': 2679, 'abysm': 2680, 'throw': 2681, 'voices': 2682, \"adder's\": 2683, 'critic': 2684, 'flatterer': 2685, 'stopped': 2686, 'dispense': 2687, 'governs': 2688, 'about': 2689, 'function': 2690, 'partly': 2691, 'effectually': 2692, 'delivers': 2693, 'bird': 2694, 'latch': 2695, 'vision': 2696, 'rudest': 2697, 'gentlest': 2698, \"deformed'st\": 2699, 'creature': 2700, 'dove': 2701, 'shapes': 2702, 'feature': 2703, 'incapable': 2704, \"monarch's\": 2705, 'saith': 2706, 'monsters': 2707, 'indigest': 2708, 'cherubins': 2709, 'resemble': 2710, 'creating': 2711, 'beams': 2712, 'assemble': 2713, 'kingly': 2714, 'drinks': 2715, 'gust': 2716, \"'greeing\": 2717, 'cup': 2718, \"poison'd\": 2719, 'lesser': 2720, 'begin': 2721, 'knew': 2722, 'afterwards': 2723, 'reckoning': 2724, \"million'd\": 2725, 'accidents': 2726, 'creep': 2727, 'decrees': 2728, 'tan': 2729, \"sharp'st\": 2730, 'intents': 2731, 'divert': 2732, 'altering': 2733, 'fearing': 2734, 'tyranny': 2735, \"'now\": 2736, 'certain': 2737, 'incertainty': 2738, 'crowning': 2739, 'marriage': 2740, 'admit': 2741, 'impediments': 2742, 'alteration': 2743, 'bends': 2744, 'remover': 2745, 'fixed': 2746, 'tempests': 2747, 'wandering': 2748, \"worth's\": 2749, 'rosy': 2750, \"sickle's\": 2751, 'compass': 2752, 'weeks': 2753, 'error': 2754, 'scanted': 2755, 'repay': 2756, 'frequent': 2757, 'purchased': 2758, 'hoisted': 2759, 'transport': 2760, 'wilfulness': 2761, 'surmise': 2762, 'accumulate': 2763, 'shoot': 2764, \"waken'd\": 2765, 'appeal': 2766, 'appetites': 2767, 'eager': 2768, 'prevent': 2769, 'sicken': 2770, 'sickness': 2771, 'purge': 2772, 'cloying': 2773, 'sauces': 2774, 'welfare': 2775, 'meetness': 2776, 'needing': 2777, 'anticipate': 2778, 'ills': 2779, 'medicine': 2780, 'cured': 2781, 'lesson': 2782, 'drugs': 2783, 'poison': 2784, 'drunk': 2785, 'siren': 2786, 'limbecks': 2787, 'applying': 2788, 'committed': 2789, 'spheres': 2790, 'fitted': 2791, 'distraction': 2792, 'madding': 2793, 'rebuked': 2794, 'befriends': 2795, 'transgression': 2796, 'nerves': 2797, \"hammer'd\": 2798, \"you've\": 2799, 'weigh': 2800, 'suffered': 2801, 'deepest': 2802, 'hard': 2803, 'hits': 2804, \"tender'd\": 2805, 'wounded': 2806, 'bosoms': 2807, 'fits': 2808, 'fee': 2809, 'ransoms': 2810, 'reproach': 2811, 'adulterate': 2812, 'salutation': 2813, 'sportive': 2814, 'frailer': 2815, 'spies': 2816, 'abuses': 2817, 'reckon': 2818, 'bevel': 2819, 'maintain': 2820, 'badness': 2821, \"character'd\": 2822, 'lasting': 2823, 'beyond': 2824, 'faculty': 2825, 'subsist': 2826, 'oblivion': 2827, \"miss'd\": 2828, 'retention': 2829, 'tallies': 2830, 'score': 2831, 'receive': 2832, 'import': 2833, 'forgetfulness': 2834, 'pyramids': 2835, 'novel': 2836, 'dressings': 2837, 'dates': 2838, 'admire': 2839, 'foist': 2840, 'rather': 2841, 'heard': 2842, 'registers': 2843, 'defy': 2844, 'wondering': 2845, 'records': 2846, 'continual': 2847, \"unfather'd'\": 2848, \"gather'd\": 2849, 'builded': 2850, 'accident': 2851, 'suffers': 2852, 'smiling': 2853, 'pomp': 2854, 'falls': 2855, 'blow': 2856, 'thralled': 2857, 'inviting': 2858, 'heretic': 2859, 'leases': 2860, \"number'd\": 2861, 'hugely': 2862, 'politic': 2863, 'drowns': 2864, 'fools': 2865, 'extern': 2866, 'honouring': 2867, 'bases': 2868, 'ruining': 2869, 'dwellers': 2870, 'paying': 2871, 'rent': 2872, 'compound': 2873, 'forgoing': 2874, 'savour': 2875, 'pitiful': 2876, 'thrivers': 2877, 'gazing': 2878, 'oblation': 2879, \"mix'd\": 2880, 'seconds': 2881, \"suborn'd\": 2882, 'informer': 2883, \"impeach'd\": 2884, 'fickle': 2885, 'sickle': 2886, 'waning': 2887, \"show'st\": 2888, 'withering': 2889, \"grow'st\": 2890, 'wrack': 2891, 'goest': 2892, 'onwards': 2893, 'minion': 2894, 'detain': 2895, \"delay'd\": 2896, \"answer'd\": 2897, 'quietus': 2898, 'counted': 2899, 'successive': 2900, \"slander'd\": 2901, 'fairing': 2902, \"art's\": 2903, 'bower': 2904, 'brows': 2905, 'raven': 2906, 'suited': 2907, 'slandering': 2908, \"play'st\": 2909, 'gently': 2910, \"sway'st\": 2911, 'wiry': 2912, 'harvest': 2913, 'reap': 2914, \"wood's\": 2915, 'boldness': 2916, 'tickled': 2917, 'situation': 2918, 'dancing': 2919, 'chips': 2920, 'walk': 2921, 'gait': 2922, 'savage': 2923, \"enjoy'd\": 2924, 'hunted': 2925, 'hated': 2926, \"swallow'd\": 2927, 'bait': 2928, 'taker': 2929, 'bliss': 2930, 'proposed': 2931, 'coral': 2932, \"lips'\": 2933, 'snow': 2934, 'breasts': 2935, 'dun': 2936, 'hairs': 2937, \"damask'd\": 2938, 'reeks': 2939, 'treads': 2940, 'tyrannous': 2941, 'proudly': 2942, 'err': 2943, 'groans': 2944, 'neck': 2945, \"judgment's\": 2946, 'proceeds': 2947, 'pitying': 2948, 'torments': 2949, 'ruth': 2950, 'grey': 2951, 'east': 2952, 'ushers': 2953, 'sober': 2954, 'become': 2955, 'beseem': 2956, 'herself': 2957, 'beshrew': 2958, \"is't\": 2959, 'slavery': 2960, \"sweet'st\": 2961, 'harder': 2962, \"engross'd\": 2963, 'forsaken': 2964, 'threefold': 2965, \"cross'd\": 2966, 'prison': 2967, 'ward': 2968, \"whoe'er\": 2969, 'rigor': 2970, 'gaol': 2971, 'perforce': 2972, \"confess'd\": 2973, 'mortgaged': 2974, 'restore': 2975, 'covetous': 2976, \"learn'd\": 2977, 'surety': 2978, 'bond': 2979, 'bind': 2980, 'statute': 2981, \"put'st\": 2982, 'sue': 2983, 'debtor': 2984, 'whole': 2985, 'whoever': 2986, 'boot': 2987, 'overplus': 2988, 'spacious': 2989, 'acceptance': 2990, 'addeth': 2991, 'beseechers': 2992, 'admitted': 2993, 'receipt': 2994, \"reckon'd\": 2995, 'untold': 2996, \"stores'\": 2997, 'partial': 2998, \"anchor'd\": 2999, 'bay': 3000, \"eyes'\": 3001, 'forged': 3002, 'hooks': 3003, 'several': 3004, 'plot': 3005, 'erred': 3006, \"transferr'd\": 3007, 'swears': 3008, \"untutor'd\": 3009, 'unlearned': 3010, 'subtleties': 3011, 'simply': 3012, 'credit': 3013, 'sides': 3014, \"suppress'd\": 3015, 'unjust': 3016, 'habit': 3017, \"flatter'd\": 3018, 'justify': 3019, 'slay': 3020, \"need'st\": 3021, \"press'd\": 3022, 'defense': 3023, 'dart': 3024, 'outright': 3025, 'rid': 3026, 'press': 3027, 'manner': 3028, 'testy': 3029, 'news': 3030, 'physicians': 3031, 'madness': 3032, 'wresting': 3033, 'slanderers': 3034, 'believed': 3035, 'pleased': 3036, \"tongue's\": 3037, 'tune': 3038, 'delighted': 3039, 'prone': 3040, 'invited': 3041, 'senses': 3042, 'dissuade': 3043, 'foolish': 3044, \"unsway'd\": 3045, 'likeness': 3046, 'awards': 3047, 'merits': 3048, 'reproving': 3049, 'scarlet': 3050, 'ornaments': 3051, \"seal'd\": 3052, \"robb'd\": 3053, \"beds'\": 3054, 'revenues': 3055, 'rents': 3056, 'woo': 3057, 'importune': 3058, 'deserve': 3059, 'pitied': 3060, 'denied': 3061, 'housewife': 3062, 'runs': 3063, \"feather'd\": 3064, 'dispatch': 3065, 'neglected': 3066, 'busy': 3067, 'prizing': 3068, \"infant's\": 3069, \"runn'st\": 3070, 'afar': 3071, 'pray': 3072, 'loud': 3073, 'crying': 3074, 'suggest': 3075, 'worser': 3076, \"colour'd\": 3077, 'female': 3078, 'tempteth': 3079, 'saint': 3080, 'devil': 3081, 'wooing': 3082, 'purity': 3083, 'directly': 3084, 'doubt': 3085, 'breathed': 3086, \"languish'd\": 3087, 'woeful': 3088, 'mercy': 3089, 'chiding': 3090, \"follow'd\": 3091, 'flown': 3092, 'threw': 3093, 'saved': 3094, 'saying': 3095, \"'not\": 3096, 'centre': 3097, 'rebel': 3098, 'powers': 3099, 'array': 3100, 'dearth': 3101, 'costly': 3102, 'inheritors': 3103, 'excess': 3104, 'charge': 3105, \"servant's\": 3106, 'aggravate': 3107, 'buy': 3108, 'terms': 3109, 'selling': 3110, 'dross': 3111, 'fed': 3112, 'feed': 3113, \"there's\": 3114, 'dying': 3115, 'longing': 3116, 'nurseth': 3117, 'disease': 3118, 'preserve': 3119, 'uncertain': 3120, 'sickly': 3121, 'physician': 3122, 'angry': 3123, 'prescriptions': 3124, 'desperate': 3125, 'except': 3126, 'frantic': 3127, 'unrest': 3128, 'discourse': 3129, \"madmen's\": 3130, 'random': 3131, 'correspondence': 3132, 'censures': 3133, 'falsely': 3134, 'aright': 3135, 'denote': 3136, \"'no\": 3137, \"vex'd\": 3138, 'watching': 3139, 'marvel': 3140, 'mistake': 3141, 'sees': 3142, 'clears': 3143, \"keep'st\": 3144, 'partake': 3145, 'hateth': 3146, \"frown'st\": 3147, 'fawn': 3148, \"lour'st\": 3149, 'revenge': 3150, 'service': 3151, 'worship': 3152, 'commanded': 3153, 'insufficiency': 3154, 'brightness': 3155, 'refuse': 3156, 'warrantize': 3157, 'exceeds': 3158, 'unworthiness': 3159, 'raised': 3160, 'cheater': 3161, 'betraying': 3162, 'nobler': 3163, 'treason': 3164, 'stays': 3165, 'rising': 3166, 'drudge': 3167, 'swearing': 3168, 'act': 3169, 'torn': 3170, 'vowing': 3171, \"oaths'\": 3172, 'breach': 3173, 'twenty': 3174, 'misuse': 3175, 'honest': 3176, 'enlighten': 3177, 'blindness': 3178, 'maid': 3179, \"dian's\": 3180, 'kindling': 3181, 'quickly': 3182, 'valley': 3183, 'fountain': 3184, 'endure': 3185, 'seething': 3186, 'fired': 3187, 'trial': 3188, 'touch': 3189, 'withal': 3190, 'thither': 3191, 'hied': 3192, \"distemper'd\": 3193, 'lying': 3194, 'inflaming': 3195, 'nymphs': 3196, \"vow'd\": 3197, 'chaste': 3198, 'tripping': 3199, 'votary': 3200, 'legions': 3201, \"warm'd\": 3202, 'sleeping': 3203, 'virgin': 3204, \"disarm'd\": 3205, 'quenched': 3206, 'cool': 3207, 'thrall': 3208, 'heats': 3209, 'cools': 3210}\n"
          ]
        }
      ]
    },
    {
      "cell_type": "code",
      "source": [
        "print(corpus[0])\n",
        "tokenizer.texts_to_sequences([corpus[0]])\n",
        "tokenizer.texts_to_sequences([corpus[0]])[0]"
      ],
      "metadata": {
        "colab": {
          "base_uri": "https://localhost:8080/"
        },
        "id": "bAvZ3odnb-86",
        "outputId": "23e6c37b-6a96-4bf8-c107-eb73d0bf1f6c"
      },
      "execution_count": 11,
      "outputs": [
        {
          "output_type": "stream",
          "name": "stdout",
          "text": [
            "from fairest creatures we desire increase,\n"
          ]
        },
        {
          "output_type": "execute_result",
          "data": {
            "text/plain": [
              "[34, 417, 877, 166, 213, 517]"
            ]
          },
          "metadata": {},
          "execution_count": 11
        }
      ]
    },
    {
      "cell_type": "markdown",
      "source": [
        "## Generating n_grams"
      ],
      "metadata": {
        "id": "nfcfXtdgcg9Q"
      }
    },
    {
      "cell_type": "code",
      "source": [
        "# grader-required-cell\n",
        "\n",
        "# GRADED FUNCTION: n_gram_seqs\n",
        "def n_gram_seqs(corpus, tokenizer):\n",
        "\n",
        "    input_sequences = []\n",
        "\n",
        "    for line in corpus:\n",
        "      token_list = tokenizer.texts_to_sequences([line])[0]\n",
        "\n",
        "      for i in range(1, len(token_list)):\n",
        "        input_sequences.append(token_list[:i+1])\n",
        "\n",
        "\n",
        "    ### END CODE HERE\n",
        "\n",
        "    return input_sequences"
      ],
      "metadata": {
        "id": "DC6nPgGQchy0"
      },
      "execution_count": 12,
      "outputs": []
    },
    {
      "cell_type": "code",
      "source": [
        "# Test your function with one example\n",
        "first_example_sequence = n_gram_seqs([corpus[0]], tokenizer)\n",
        "\n",
        "print(\"n_gram sequences for first example look like this:\\n\")\n",
        "first_example_sequence"
      ],
      "metadata": {
        "colab": {
          "base_uri": "https://localhost:8080/"
        },
        "id": "MUT-pWFieCGl",
        "outputId": "c583f4ce-3dfa-4b94-cc51-a905ceb853fc"
      },
      "execution_count": 13,
      "outputs": [
        {
          "output_type": "stream",
          "name": "stdout",
          "text": [
            "n_gram sequences for first example look like this:\n",
            "\n"
          ]
        },
        {
          "output_type": "execute_result",
          "data": {
            "text/plain": [
              "[[34, 417],\n",
              " [34, 417, 877],\n",
              " [34, 417, 877, 166],\n",
              " [34, 417, 877, 166, 213],\n",
              " [34, 417, 877, 166, 213, 517]]"
            ]
          },
          "metadata": {},
          "execution_count": 13
        }
      ]
    },
    {
      "cell_type": "code",
      "source": [
        "input_sequences = n_gram_seqs(corpus, tokenizer)\n",
        "\n",
        "# Save max length\n",
        "max_sequence_len = max([len(x) for x in input_sequences])\n",
        "\n",
        "print(f\"n_grams of input_sequences have length: {len(input_sequences)}\")\n",
        "print(f\"maximum length of sequences is: {max_sequence_len}\")"
      ],
      "metadata": {
        "colab": {
          "base_uri": "https://localhost:8080/"
        },
        "id": "X-EN-7rgeRe0",
        "outputId": "d151199e-1a99-44a7-cb6d-4134c95b65d3"
      },
      "execution_count": 14,
      "outputs": [
        {
          "output_type": "stream",
          "name": "stdout",
          "text": [
            "n_grams of input_sequences have length: 15462\n",
            "maximum length of sequences is: 11\n"
          ]
        }
      ]
    },
    {
      "cell_type": "markdown",
      "source": [
        "# **padding the seqence**"
      ],
      "metadata": {
        "id": "Z6N-JI4xeU-O"
      }
    },
    {
      "cell_type": "code",
      "source": [
        "def pad_seqs(input_sequences, maxlen):\n",
        "\n",
        "    padded_sequences = np.array(pad_sequences(input_sequences, maxlen=max_sequence_len, padding='pre'))\n",
        "\n",
        "    return padded_sequences"
      ],
      "metadata": {
        "id": "4-tCjSRXeZEf"
      },
      "execution_count": 15,
      "outputs": []
    },
    {
      "cell_type": "code",
      "source": [
        "first_padded_seq = pad_seqs(first_example_sequence, max_sequence_len)\n",
        "print(first_padded_seq)"
      ],
      "metadata": {
        "colab": {
          "base_uri": "https://localhost:8080/"
        },
        "id": "jaYDrtV5ewRV",
        "outputId": "5b718aba-3ac7-4ebb-da11-b60ead21e7cc"
      },
      "execution_count": 22,
      "outputs": [
        {
          "output_type": "stream",
          "name": "stdout",
          "text": [
            "[[  0   0   0   0   0   0   0   0   0  34 417]\n",
            " [  0   0   0   0   0   0   0   0  34 417 877]\n",
            " [  0   0   0   0   0   0   0  34 417 877 166]\n",
            " [  0   0   0   0   0   0  34 417 877 166 213]\n",
            " [  0   0   0   0   0  34 417 877 166 213 517]]\n"
          ]
        }
      ]
    },
    {
      "cell_type": "code",
      "source": [
        "input_sequences = pad_seqs(input_sequences, max_sequence_len)\n",
        "\n",
        "print(f\"padded corpus has shape: {input_sequences.shape}\")"
      ],
      "metadata": {
        "colab": {
          "base_uri": "https://localhost:8080/"
        },
        "id": "7dsLrN72faDh",
        "outputId": "5180a601-4c68-4927-aa5c-9209514c8d36"
      },
      "execution_count": 23,
      "outputs": [
        {
          "output_type": "stream",
          "name": "stdout",
          "text": [
            "padded corpus has shape: (15462, 11)\n"
          ]
        }
      ]
    },
    {
      "cell_type": "markdown",
      "source": [
        "# **split**"
      ],
      "metadata": {
        "id": "4r4jPEXHgB9D"
      }
    },
    {
      "cell_type": "code",
      "source": [
        "# grader-required-cell\n",
        "\n",
        "# GRADED FUNCTION: features_and_labels\n",
        "def features_and_labels(input_sequences, total_words):\n",
        "\n",
        "    features = []\n",
        "    labels = []\n",
        "    one_hot_labels = None\n",
        "\n",
        "    for input in input_sequences:\n",
        "      features.append(input[:-1])\n",
        "      labels.append(input[-1])\n",
        "\n",
        "    one_hot_labels = np.array(tf.keras.utils.to_categorical(labels, num_classes=total_words))#3 = [0 0 0 1 0 0...]\n",
        "    features = np.array(features)\n",
        "\n",
        "    return features, one_hot_labels"
      ],
      "metadata": {
        "id": "h9BDSw3HgD2x"
      },
      "execution_count": 28,
      "outputs": []
    },
    {
      "cell_type": "code",
      "source": [
        "first_features, first_labels = features_and_labels(first_padded_seq, total_words)\n",
        "\n",
        "print(first_labels)\n",
        "print(first_features)\n"
      ],
      "metadata": {
        "colab": {
          "base_uri": "https://localhost:8080/"
        },
        "id": "QWNasW8vifbv",
        "outputId": "beb34fe3-42b1-4f81-ae7d-0550e4f211e7"
      },
      "execution_count": 29,
      "outputs": [
        {
          "output_type": "stream",
          "name": "stdout",
          "text": [
            "[[0. 0. 0. ... 0. 0. 0.]\n",
            " [0. 0. 0. ... 0. 0. 0.]\n",
            " [0. 0. 0. ... 0. 0. 0.]\n",
            " [0. 0. 0. ... 0. 0. 0.]\n",
            " [0. 0. 0. ... 0. 0. 0.]]\n",
            "[[  0   0   0   0   0   0   0   0   0  34]\n",
            " [  0   0   0   0   0   0   0   0  34 417]\n",
            " [  0   0   0   0   0   0   0  34 417 877]\n",
            " [  0   0   0   0   0   0  34 417 877 166]\n",
            " [  0   0   0   0   0  34 417 877 166 213]]\n"
          ]
        }
      ]
    },
    {
      "cell_type": "code",
      "source": [
        "features, labels = features_and_labels(input_sequences, total_words)\n",
        "\n",
        "print(f\"features have shape: {features.shape}\")\n",
        "print(f\"labels have shape: {labels.shape}\")"
      ],
      "metadata": {
        "colab": {
          "base_uri": "https://localhost:8080/"
        },
        "id": "xW1PlFWlpqmm",
        "outputId": "97a9a531-2f0b-4749-ee67-2800f2d9a85f"
      },
      "execution_count": 30,
      "outputs": [
        {
          "output_type": "stream",
          "name": "stdout",
          "text": [
            "features have shape: (15462, 10)\n",
            "labels have shape: (15462, 3211)\n"
          ]
        }
      ]
    },
    {
      "cell_type": "markdown",
      "source": [
        "# **model and wod embedding**"
      ],
      "metadata": {
        "id": "z0XoDiTTqU0k"
      }
    },
    {
      "cell_type": "code",
      "source": [
        "import tensorflow as tf\n",
        "\n",
        "# Hyperparameters\n",
        "embedding_dim = 100\n",
        "filters = 64\n",
        "kernel_size = 5\n",
        "dense_dim = 64\n",
        "lstm_dim = 150\n",
        "\n",
        "# Build the model\n",
        "model = tf.keras.Sequential([\n",
        "    tf.keras.layers.Embedding(total_words, embedding_dim, input_length=max_sequence_len-1),\n",
        "    tf.keras.layers.Bidirectional(tf.keras.layers.LSTM(lstm_dim)),\n",
        "    tf.keras.layers.Dense(64, activation='relu'),\n",
        "    tf.keras.layers.Dense(total_words, activation='softmax')\n",
        "])\n",
        "\n",
        "\n",
        "\n",
        "model.compile(loss='categorical_crossentropy',\n",
        "                  optimizer='adam',\n",
        "                  metrics=['accuracy'])\n",
        "\n",
        "history = model.fit(features, labels, epochs=50, verbose=1)"
      ],
      "metadata": {
        "colab": {
          "base_uri": "https://localhost:8080/"
        },
        "id": "8hAknNx2qZxa",
        "outputId": "bbede938-b7e1-444b-f551-cb7a3e7c2dc1"
      },
      "execution_count": 46,
      "outputs": [
        {
          "output_type": "stream",
          "name": "stdout",
          "text": [
            "Epoch 1/50\n",
            "484/484 [==============================] - 33s 58ms/step - loss: 6.8395 - accuracy: 0.0243\n",
            "Epoch 2/50\n",
            "484/484 [==============================] - 27s 57ms/step - loss: 6.4417 - accuracy: 0.0284\n",
            "Epoch 3/50\n",
            "484/484 [==============================] - 28s 57ms/step - loss: 6.2801 - accuracy: 0.0353\n",
            "Epoch 4/50\n",
            "484/484 [==============================] - 27s 56ms/step - loss: 6.1469 - accuracy: 0.0404\n",
            "Epoch 5/50\n",
            "484/484 [==============================] - 29s 60ms/step - loss: 6.0100 - accuracy: 0.0459\n",
            "Epoch 6/50\n",
            "484/484 [==============================] - 27s 56ms/step - loss: 5.8542 - accuracy: 0.0511\n",
            "Epoch 7/50\n",
            "484/484 [==============================] - 27s 56ms/step - loss: 5.6904 - accuracy: 0.0575\n",
            "Epoch 8/50\n",
            "484/484 [==============================] - 27s 56ms/step - loss: 5.5262 - accuracy: 0.0660\n",
            "Epoch 9/50\n",
            "484/484 [==============================] - 27s 56ms/step - loss: 5.3653 - accuracy: 0.0739\n",
            "Epoch 10/50\n",
            "484/484 [==============================] - 29s 59ms/step - loss: 5.2069 - accuracy: 0.0788\n",
            "Epoch 11/50\n",
            "484/484 [==============================] - 27s 57ms/step - loss: 5.0536 - accuracy: 0.0900\n",
            "Epoch 12/50\n",
            "484/484 [==============================] - 28s 58ms/step - loss: 4.9043 - accuracy: 0.0973\n",
            "Epoch 13/50\n",
            "484/484 [==============================] - 27s 56ms/step - loss: 4.7496 - accuracy: 0.1083\n",
            "Epoch 14/50\n",
            "484/484 [==============================] - 27s 56ms/step - loss: 4.5894 - accuracy: 0.1179\n",
            "Epoch 15/50\n",
            "484/484 [==============================] - 27s 56ms/step - loss: 4.4173 - accuracy: 0.1321\n",
            "Epoch 16/50\n",
            "484/484 [==============================] - 27s 55ms/step - loss: 4.2443 - accuracy: 0.1478\n",
            "Epoch 17/50\n",
            "484/484 [==============================] - 27s 55ms/step - loss: 4.0673 - accuracy: 0.1683\n",
            "Epoch 18/50\n",
            "484/484 [==============================] - 28s 58ms/step - loss: 3.8982 - accuracy: 0.1843\n",
            "Epoch 19/50\n",
            "484/484 [==============================] - 27s 55ms/step - loss: 3.7188 - accuracy: 0.2046\n",
            "Epoch 20/50\n",
            "484/484 [==============================] - 27s 56ms/step - loss: 3.5341 - accuracy: 0.2364\n",
            "Epoch 21/50\n",
            "484/484 [==============================] - 27s 56ms/step - loss: 3.3651 - accuracy: 0.2643\n",
            "Epoch 22/50\n",
            "484/484 [==============================] - 27s 57ms/step - loss: 3.1955 - accuracy: 0.2912\n",
            "Epoch 23/50\n",
            "484/484 [==============================] - 27s 56ms/step - loss: 3.0326 - accuracy: 0.3207\n",
            "Epoch 24/50\n",
            "484/484 [==============================] - 27s 56ms/step - loss: 2.8783 - accuracy: 0.3495\n",
            "Epoch 25/50\n",
            "484/484 [==============================] - 27s 56ms/step - loss: 2.7286 - accuracy: 0.3782\n",
            "Epoch 26/50\n",
            "484/484 [==============================] - 30s 62ms/step - loss: 2.6021 - accuracy: 0.4005\n",
            "Epoch 27/50\n",
            "484/484 [==============================] - 28s 58ms/step - loss: 2.4633 - accuracy: 0.4322\n",
            "Epoch 28/50\n",
            "484/484 [==============================] - 29s 60ms/step - loss: 2.3569 - accuracy: 0.4522\n",
            "Epoch 29/50\n",
            "484/484 [==============================] - 30s 61ms/step - loss: 2.2333 - accuracy: 0.4840\n",
            "Epoch 30/50\n",
            "484/484 [==============================] - 31s 65ms/step - loss: 2.1384 - accuracy: 0.5067\n",
            "Epoch 31/50\n",
            "484/484 [==============================] - 31s 63ms/step - loss: 2.0262 - accuracy: 0.5284\n",
            "Epoch 32/50\n",
            "484/484 [==============================] - 30s 62ms/step - loss: 1.9346 - accuracy: 0.5466\n",
            "Epoch 33/50\n",
            "484/484 [==============================] - 31s 64ms/step - loss: 1.8457 - accuracy: 0.5689\n",
            "Epoch 34/50\n",
            "484/484 [==============================] - 29s 59ms/step - loss: 1.7669 - accuracy: 0.5867\n",
            "Epoch 35/50\n",
            "484/484 [==============================] - 29s 60ms/step - loss: 1.6837 - accuracy: 0.6006\n",
            "Epoch 36/50\n",
            "484/484 [==============================] - 27s 56ms/step - loss: 1.6136 - accuracy: 0.6211\n",
            "Epoch 37/50\n",
            "484/484 [==============================] - 28s 57ms/step - loss: 1.5442 - accuracy: 0.6323\n",
            "Epoch 38/50\n",
            "484/484 [==============================] - 30s 61ms/step - loss: 1.4852 - accuracy: 0.6471\n",
            "Epoch 39/50\n",
            "484/484 [==============================] - 28s 58ms/step - loss: 1.4320 - accuracy: 0.6642\n",
            "Epoch 40/50\n",
            "484/484 [==============================] - 27s 56ms/step - loss: 1.3644 - accuracy: 0.6727\n",
            "Epoch 41/50\n",
            "484/484 [==============================] - 31s 64ms/step - loss: 1.3027 - accuracy: 0.6890\n",
            "Epoch 42/50\n",
            "484/484 [==============================] - 29s 59ms/step - loss: 1.2531 - accuracy: 0.6993\n",
            "Epoch 43/50\n",
            "484/484 [==============================] - 29s 60ms/step - loss: 1.2020 - accuracy: 0.7143\n",
            "Epoch 44/50\n",
            "484/484 [==============================] - 30s 63ms/step - loss: 1.1581 - accuracy: 0.7232\n",
            "Epoch 45/50\n",
            "484/484 [==============================] - 29s 60ms/step - loss: 1.1349 - accuracy: 0.7273\n",
            "Epoch 46/50\n",
            "484/484 [==============================] - 29s 61ms/step - loss: 1.0873 - accuracy: 0.7385\n",
            "Epoch 47/50\n",
            "484/484 [==============================] - 29s 60ms/step - loss: 1.0455 - accuracy: 0.7485\n",
            "Epoch 48/50\n",
            "484/484 [==============================] - 31s 65ms/step - loss: 1.0333 - accuracy: 0.7494\n",
            "Epoch 49/50\n",
            "484/484 [==============================] - 30s 61ms/step - loss: 0.9930 - accuracy: 0.7606\n",
            "Epoch 50/50\n",
            "484/484 [==============================] - 29s 60ms/step - loss: 0.9503 - accuracy: 0.7698\n"
          ]
        }
      ]
    },
    {
      "cell_type": "code",
      "source": [
        "acc = history.history['accuracy']\n",
        "loss = history.history['loss']\n",
        "\n",
        "epochs = range(len(acc))\n",
        "\n",
        "plt.plot(epochs, acc, 'b', label='Training accuracy')\n",
        "plt.title('Training accuracy')\n",
        "\n",
        "plt.figure()\n",
        "\n",
        "plt.plot(epochs, loss, 'b', label='Training Loss')\n",
        "plt.title('Training loss')\n",
        "plt.legend()\n",
        "\n",
        "plt.show()"
      ],
      "metadata": {
        "colab": {
          "base_uri": "https://localhost:8080/",
          "height": 887
        },
        "id": "-cFSAPuUw_mR",
        "outputId": "62ad69cd-6f3e-44fc-b82b-c25e37db6110"
      },
      "execution_count": 47,
      "outputs": [
        {
          "output_type": "display_data",
          "data": {
            "text/plain": [
              "<Figure size 640x480 with 1 Axes>"
            ],
            "image/png": "[encoded data removed]"
          },
          "metadata": {}
        },
        {
          "output_type": "display_data",
          "data": {
            "text/plain": [
              "<Figure size 640x480 with 1 Axes>"
            ],
            "image/png": "[encoded data removed]"
          },
          "metadata": {}
        }
      ]
    },
    {
      "cell_type": "markdown",
      "source": [
        "# **download**"
      ],
      "metadata": {
        "id": "9fC0nRl7xITQ"
      }
    },
    {
      "cell_type": "code",
      "source": [
        "def download_history():\n",
        "  import pickle\n",
        "  from google.colab import files\n",
        "\n",
        "  with open('history.pkl', 'wb') as f:\n",
        "    pickle.dump(history.history, f)\n",
        "\n",
        "  files.download('history.pkl')\n",
        "\n",
        "download_history()"
      ],
      "metadata": {
        "colab": {
          "base_uri": "https://localhost:8080/",
          "height": 17
        },
        "id": "tIpV9ZI2xHqo",
        "outputId": "41295e84-d147-4ad8-ca2f-b0fe7d868a67"
      },
      "execution_count": 48,
      "outputs": [
        {
          "output_type": "display_data",
          "data": {
            "text/plain": [
              "<IPython.core.display.Javascript object>"
            ],
            "application/javascript": [
              "\n",
              "    async function download(id, filename, size) {\n",
              "      if (!google.colab.kernel.accessAllowed) {\n",
              "        return;\n",
              "      }\n",
              "      const div = document.createElement('div');\n",
              "      const label = document.createElement('label');\n",
              "      label.textContent = `Downloading \"${filename}\": `;\n",
              "      div.appendChild(label);\n",
              "      const progress = document.createElement('progress');\n",
              "      progress.max = size;\n",
              "      div.appendChild(progress);\n",
              "      document.body.appendChild(div);\n",
              "\n",
              "      const buffers = [];\n",
              "      let downloaded = 0;\n",
              "\n",
              "      const channel = await google.colab.kernel.comms.open(id);\n",
              "      // Send a message to notify the kernel that we're ready.\n",
              "      channel.send({})\n",
              "\n",
              "      for await (const message of channel.messages) {\n",
              "        // Send a message to notify the kernel that we're ready.\n",
              "        channel.send({})\n",
              "        if (message.buffers) {\n",
              "          for (const buffer of message.buffers) {\n",
              "            buffers.push(buffer);\n",
              "            downloaded += buffer.byteLength;\n",
              "            progress.value = downloaded;\n",
              "          }\n",
              "        }\n",
              "      }\n",
              "      const blob = new Blob(buffers, {type: 'application/binary'});\n",
              "      const a = document.createElement('a');\n",
              "      a.href = window.URL.createObjectURL(blob);\n",
              "      a.download = filename;\n",
              "      div.appendChild(a);\n",
              "      a.click();\n",
              "      div.remove();\n",
              "    }\n",
              "  "
            ]
          },
          "metadata": {}
        },
        {
          "output_type": "display_data",
          "data": {
            "text/plain": [
              "<IPython.core.display.Javascript object>"
            ],
            "application/javascript": [
              "download(\"download_a5ab669b-8ff0-485a-b583-93245ba1b5ac\", \"history.pkl\", 942)"
            ]
          },
          "metadata": {}
        }
      ]
    },
    {
      "cell_type": "markdown",
      "source": [
        "# **generating text**"
      ],
      "metadata": {
        "id": "qbjVcWNLxY0A"
      }
    },
    {
      "cell_type": "code",
      "source": [
        "seed_text = \"Help me Obi Wan Kenobi, you're my only hope\"\n",
        "next_words = 100\n",
        "\n",
        "for _ in range(next_words):\n",
        "    # Convert the text into sequences\n",
        "    token_list = tokenizer.texts_to_sequences([seed_text])[0]\n",
        "    # Pad the sequences\n",
        "    token_list = pad_sequences([token_list], maxlen=max_sequence_len-1, padding='pre')\n",
        "    # Get the probabilities of predicting a word\n",
        "    predicted = model.predict(token_list, verbose=0)\n",
        "    # Choose the next word based on the maximum probability\n",
        "    predicted = np.argmax(predicted, axis=-1).item()\n",
        "    # Get the actual word from the word index\n",
        "    output_word = tokenizer.index_word[predicted]\n",
        "    # Append to the current text\n",
        "    seed_text += \" \" + output_word\n",
        "\n",
        "print(seed_text)"
      ],
      "metadata": {
        "colab": {
          "base_uri": "https://localhost:8080/"
        },
        "id": "19oQs68axcAv",
        "outputId": "76deb690-fdd0-4b7e-9c58-1fafbf7849e3"
      },
      "execution_count": 49,
      "outputs": [
        {
          "output_type": "stream",
          "name": "stdout",
          "text": [
            "Help me Obi Wan Kenobi, you're my only hope of wrongs time's thief more bear bail both will will lose say so heart be fullness fullness ' art best more well deem bad more well deem bad young contains ' to it find room if accuse thee to it old wink not not thee bright more untrue great weeds ' told in thee doth lie not still thine for this will lie me thee it more be deem deem more aside slain deem deem deem seen ' so call contains fullness ' call mistaking me that best do ere thee dearer convertest free contains more deem seen seen '\n"
          ]
        }
      ]
    }
  ]
}